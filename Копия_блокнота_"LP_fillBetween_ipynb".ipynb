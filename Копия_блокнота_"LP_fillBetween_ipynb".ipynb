{
  "cells": [
    {
      "cell_type": "markdown",
      "metadata": {
        "id": "view-in-github",
        "colab_type": "text"
      },
      "source": [
        "<a href=\"https://colab.research.google.com/github/DANILYCHAN/collab_notebooks/blob/master/%D0%9A%D0%BE%D0%BF%D0%B8%D1%8F_%D0%B1%D0%BB%D0%BE%D0%BA%D0%BD%D0%BE%D1%82%D0%B0_%22LP_fillBetween_ipynb%22.ipynb\" target=\"_parent\"><img src=\"https://colab.research.google.com/assets/colab-badge.svg\" alt=\"Open In Colab\"/></a>"
      ]
    },
    {
      "cell_type": "markdown",
      "metadata": {
        "id": "jMaRHXoGmbsC"
      },
      "source": [
        "## Задача линейного программирования\n",
        "\n",
        "### Графический метод решения задач ЛП с двумя переменными\n",
        "\n",
        "Областью решений неравенства $a_1x_1+a_2x_2\\leqslant b$ \n",
        "является одна из двух полуплоскостей, на которые разбивает всю координатную плоскость прямая $a_1x_1+a_2x_2 = b$, соответствующая этому неравенству.\n",
        "\n",
        "Чтобы определить, какая из двух полуплоскостей является областью решений, выбираем произвольную точку, не лежащую на прямой (например, (0;0)). Если неравенство выполняется, то область, содержащая точку, является областью решений.\n",
        "\n",
        "Линией уровня целевой функции $c_1x_1+c_2x_2$ называется прямая, в точках которой функция постоянна. Значения целевой функции увеличиваются, если её линии уровня перемещать в направлении их нормали $(c_1, c_2)$."
      ]
    },
    {
      "cell_type": "markdown",
      "metadata": {
        "id": "bChRPwxwmbsG"
      },
      "source": [
        "## Линейное программирование с Python\n",
        " \n",
        "### Реализация графического метода\n",
        "\n",
        "Рассмотрим задачу линейного программирования:\n",
        " \n",
        "найти максимальное значение целевой функции $F=4x+3y$ при следующих ограничениях\n",
        " \n",
        " $$\n",
        " \\left\\{\n",
        " \\begin{array}{l}\n",
        " x+2y\\leqslant 25\\\\\n",
        " 2x-4y\\leqslant 8\\\\\n",
        " 2x-y\\geqslant 5\\\\\n",
        " x\\geqslant 0, y\\geqslant 2\\\\\n",
        " \\end{array}\n",
        " \\right.\n",
        "  $$\n",
        " \n",
        " \n",
        " \n",
        " Преобразуем ограничения:\n",
        " \n",
        "  $$\n",
        " \\left\\{\n",
        " \\begin{array}{l}\n",
        " y\\leqslant \\dfrac{25-x}{2}\\\\\n",
        " y\\geqslant \\dfrac{2x-8}{4}\\\\\n",
        " y\\leqslant 2x-5\\\\\n",
        " x\\geqslant 0, y\\geqslant 2\\\\\n",
        " \\end{array}\n",
        " \\right.\n",
        "  $$\n",
        " \n",
        " \n",
        " \n",
        " Начнем с построения графического изображения задачи.\n",
        " \n",
        " "
      ]
    },
    {
      "cell_type": "code",
      "execution_count": null,
      "metadata": {
        "id": "x129kghVmbsI"
      },
      "outputs": [],
      "source": [
        "import numpy as np\n",
        "import matplotlib.pyplot as plt\n",
        "%matplotlib inline"
      ]
    },
    {
      "cell_type": "code",
      "execution_count": null,
      "metadata": {
        "colab": {
          "base_uri": "https://localhost:8080/",
          "height": 296
        },
        "id": "RWzzGDuCmbsK",
        "outputId": "c5ffd233-6bdf-430a-bb54-d0d9b90d55ba"
      },
      "outputs": [
        {
          "output_type": "execute_result",
          "data": {
            "text/plain": [
              "<matplotlib.legend.Legend at 0x7f831c316910>"
            ]
          },
          "metadata": {},
          "execution_count": 2
        },
        {
          "output_type": "display_data",
          "data": {
            "text/plain": [
              "<Figure size 432x288 with 1 Axes>"
            ],
            "image/png": "[encoded data removed]"
          },
          "metadata": {
            "needs_background": "light"
          }
        }
      ],
      "source": [
        "\n",
        "\n",
        "# Строим прямые линии\n",
        "\n",
        "# Задаем диапазон изменения переменной x\n",
        "# x > 0\n",
        "x = np.linspace(0, 20, 2000)\n",
        "\n",
        "# y >= 2\n",
        "y1 = (x*0) + 2\n",
        "\n",
        "# 2y <= 25 - x\n",
        "y2 = (25-x)/2\n",
        "\n",
        "# 4y >= 2x - 8 \n",
        "y3 =  (2*x-8)/4\n",
        "\n",
        "# y <= 2x - 5 \n",
        "y4 =  2 * x -5\n",
        "\n",
        "# Строим графики\n",
        "\n",
        "plt.plot(x, y1, label=r'$y_1: y\\geqslant2$')\n",
        "plt.plot(x, y2, label=r'$y_2: 2y\\leq25-x$')\n",
        "plt.plot(x, y3, label=r'$y_3: 4y\\geq 2x - 8$')\n",
        "plt.plot(x, y4, label=r'$y_4: y\\leq 2x-5$')\n",
        "plt.xlim((0, 16))\n",
        "plt.ylim((0, 11))\n",
        "plt.xlabel(r'$x$')\n",
        "plt.ylabel(r'$y$')\n",
        "\n",
        "# Закрашиваем область допустимых планов\n",
        "\n",
        "y5 = np.minimum(y2, y4)\n",
        "y6 = np.maximum(y1, y3)\n",
        "\n",
        "plt.fill_between(x, y5, y6, where=y5>y6, color='grey', alpha=0.5)\n",
        "plt.legend(bbox_to_anchor=(1.05, 1), loc=2, borderaxespad=0.)"
      ]
    },
    {
      "cell_type": "markdown",
      "metadata": {
        "id": "dqaRK9l3mbsN"
      },
      "source": [
        " Наше решение находится где-то в серой области, на рисунке выше.\n",
        "\n",
        "Доказано, что минимумы и максимумы задач линейного программирования лежат в вершинах допустимой области. В этом примере для нашего практически возможного региона есть только 4 угла, поэтому мы можем найти решения для каждой вершины, чтобы среди них найти наш максимум."
      ]
    },
    {
      "cell_type": "markdown",
      "metadata": {
        "id": "J7q1hg8jmbsO"
      },
      "source": [
        "Четыре угла получаются при пересечении следующих линий:\n",
        "\n",
        "1)$y⩾2$ и $y⩽2x−5$ (синяя и красная линии);\n",
        "\n",
        "2)$2y⩽25−x$ и $y⩽2x−5$ (красная и оранжевая); \n",
        "\n",
        "3)$2y⩽25−x$ и $4y⩾2x−8$ (оранжевая и зеленая);\n",
        "\n",
        "4) $y\\geqslant2$ и $4y\\geqslant 2x−8$ (синяя и зеленая линии).\n",
        "\n",
        "Найдем координаты точек пересечения прямых и вычислим $F=4x+3y$ для каждого угла.\n",
        "\n"
      ]
    },
    {
      "cell_type": "markdown",
      "metadata": {
        "id": "xq6z982zmbsO"
      },
      "source": [
        "Для этого воспользуемся библиотекой sympy."
      ]
    },
    {
      "cell_type": "code",
      "execution_count": null,
      "metadata": {
        "id": "EuYTcpLSmbsP"
      },
      "outputs": [],
      "source": [
        "import sympy as sp\n",
        "sp.init_printing()"
      ]
    },
    {
      "cell_type": "markdown",
      "metadata": {
        "id": "gJsR3HdlmbsQ"
      },
      "source": [
        "Для корректной работы с символьными переменными нужно объявлять их с помощью метода symbols или var (последний вариант удобнее)."
      ]
    },
    {
      "cell_type": "code",
      "execution_count": null,
      "metadata": {
        "colab": {
          "base_uri": "https://localhost:8080/",
          "height": 39
        },
        "id": "d7grWyxRmbsQ",
        "outputId": "20216f89-9e4a-4aca-f4bd-be40cf369a28"
      },
      "outputs": [
        {
          "output_type": "execute_result",
          "data": {
            "text/plain": [
              "(2, 2⋅x - 5)"
            ],
            "image/png": "[encoded data removed]",
            "text/latex": "$\\displaystyle \\left( 2, \\  2 x - 5\\right)$"
          },
          "metadata": {},
          "execution_count": 4
        }
      ],
      "source": [
        "# 1\n",
        "\n",
        "#x, y = sp.symbols('x, y')\n",
        "sp.var('x y F')\n",
        "F = 4 * x + 3 * y\n",
        "\n",
        "y1 = 2\n",
        "\n",
        "# y <= 2x - 5 \n",
        "y4 =  2 * x -5\n",
        "\n",
        "y1,y4\n"
      ]
    },
    {
      "cell_type": "markdown",
      "metadata": {
        "id": "15J_AVZXmbsR"
      },
      "source": [
        "Уравнение записывается как функция Eq с двумя параметрами. Функция solve возврящает список решений."
      ]
    },
    {
      "cell_type": "code",
      "execution_count": null,
      "metadata": {
        "colab": {
          "base_uri": "https://localhost:8080/",
          "height": 58
        },
        "id": "t94AAOMhmbsS",
        "outputId": "a394c19d-6b67-4f33-fb68-b6ddf6afa427"
      },
      "outputs": [
        {
          "output_type": "execute_result",
          "data": {
            "text/plain": [
              "[7/2]"
            ],
            "image/png": "[encoded data removed]",
            "text/latex": "$\\displaystyle \\left[ \\frac{7}{2}\\right]$"
          },
          "metadata": {},
          "execution_count": 5
        }
      ],
      "source": [
        "sp.solve(sp.Eq(y1,y4),x)\n"
      ]
    },
    {
      "cell_type": "markdown",
      "metadata": {
        "id": "JokFUPxDmbsT"
      },
      "source": [
        "$x = \\frac 7 2$, $y = 2$, $F = (4 \\cdot \\frac72 + 3 \\cdot 2) = 20$\n",
        "\n",
        "Функция subs заменяет переменную на выражение. Она может заменить несколько переменных. "
      ]
    },
    {
      "cell_type": "code",
      "execution_count": null,
      "metadata": {
        "colab": {
          "base_uri": "https://localhost:8080/",
          "height": 37
        },
        "id": "SDhpj55JmbsT",
        "outputId": "21d26769-7a27-4375-fd13-e55bf548c3e1"
      },
      "outputs": [
        {
          "output_type": "execute_result",
          "data": {
            "text/plain": [
              "20.0000000000000"
            ],
            "image/png": "[encoded data removed]",
            "text/latex": "$\\displaystyle 20.0$"
          },
          "metadata": {},
          "execution_count": 6
        }
      ],
      "source": [
        "F.subs([(x,7/2),(y,2)])"
      ]
    },
    {
      "cell_type": "code",
      "source": [
        "y2 = (25 - x)/2\n",
        "\n",
        "sp.solve(sp.Eq(y2, y4), x)"
      ],
      "metadata": {
        "colab": {
          "base_uri": "https://localhost:8080/",
          "height": 37
        },
        "id": "cuLOlWNLosXY",
        "outputId": "96f7a70b-aaa2-4c7d-df57-977ea183d115"
      },
      "execution_count": null,
      "outputs": [
        {
          "output_type": "execute_result",
          "data": {
            "text/plain": [
              "[7]"
            ],
            "image/png": "[encoded data removed]",
            "text/latex": "$\\displaystyle \\left[ 7\\right]$"
          },
          "metadata": {},
          "execution_count": 7
        }
      ]
    },
    {
      "cell_type": "markdown",
      "source": [
        "$x = 7$, $y = 9$, $F = (4 \\cdot 7 + 3 \\cdot 9) = 55$"
      ],
      "metadata": {
        "id": "AA6ujaumpqNu"
      }
    },
    {
      "cell_type": "code",
      "source": [
        "F.subs([(x, 7), (y, 9)])"
      ],
      "metadata": {
        "colab": {
          "base_uri": "https://localhost:8080/",
          "height": 37
        },
        "id": "DRwvqFQvpiOr",
        "outputId": "c306cc80-a348-4d78-8a13-1d06e9644bb8"
      },
      "execution_count": null,
      "outputs": [
        {
          "output_type": "execute_result",
          "data": {
            "text/plain": [
              "55"
            ],
            "image/png": "[encoded data removed]",
            "text/latex": "$\\displaystyle 55$"
          },
          "metadata": {},
          "execution_count": 8
        }
      ]
    },
    {
      "cell_type": "code",
      "source": [
        "y3 = (2*x - 8)/4\n",
        "\n",
        "sp.solve(sp.Eq(y2, y3), x)"
      ],
      "metadata": {
        "colab": {
          "base_uri": "https://localhost:8080/",
          "height": 58
        },
        "id": "If_ATY3SqK2t",
        "outputId": "643ae512-7650-4ee4-d8c2-d4061297d498"
      },
      "execution_count": null,
      "outputs": [
        {
          "output_type": "execute_result",
          "data": {
            "text/plain": [
              "[29/2]"
            ],
            "image/png": "[encoded data removed]",
            "text/latex": "$\\displaystyle \\left[ \\frac{29}{2}\\right]$"
          },
          "metadata": {},
          "execution_count": 10
        }
      ]
    },
    {
      "cell_type": "markdown",
      "source": [
        "$x = 29 / 2$, $y = 5,25$, $F = ?$"
      ],
      "metadata": {
        "id": "Fr3jQe2zqd3n"
      }
    },
    {
      "cell_type": "code",
      "source": [
        "F.subs([(x, 29/2), (y, 5.25)])"
      ],
      "metadata": {
        "colab": {
          "base_uri": "https://localhost:8080/",
          "height": 37
        },
        "id": "btJsYPqJrAfH",
        "outputId": "c01efbbb-67b3-48df-e124-a90a0946e284"
      },
      "execution_count": null,
      "outputs": [
        {
          "output_type": "execute_result",
          "data": {
            "text/plain": [
              "73.7500000000000"
            ],
            "image/png": "[encoded data removed]",
            "text/latex": "$\\displaystyle 73.75$"
          },
          "metadata": {},
          "execution_count": 15
        }
      ]
    },
    {
      "cell_type": "code",
      "source": [
        "sp.solve(sp.Eq(y1, y3), x)"
      ],
      "metadata": {
        "colab": {
          "base_uri": "https://localhost:8080/",
          "height": 37
        },
        "id": "k5qQyd3ArMmu",
        "outputId": "b876c0c1-ace1-4967-9dc3-add9fad8c9e9"
      },
      "execution_count": null,
      "outputs": [
        {
          "output_type": "execute_result",
          "data": {
            "text/plain": [
              "[8]"
            ],
            "image/png": "[encoded data removed]",
            "text/latex": "$\\displaystyle \\left[ 8\\right]$"
          },
          "metadata": {},
          "execution_count": 12
        }
      ]
    },
    {
      "cell_type": "code",
      "source": [
        "F.subs([(x, 8), (y, 2)])"
      ],
      "metadata": {
        "colab": {
          "base_uri": "https://localhost:8080/",
          "height": 37
        },
        "id": "Hw8fPfXqrfAW",
        "outputId": "296da926-1bc4-4e38-8690-844f0b8fb8c2"
      },
      "execution_count": null,
      "outputs": [
        {
          "output_type": "execute_result",
          "data": {
            "text/plain": [
              "38"
            ],
            "image/png": "[encoded data removed]",
            "text/latex": "$\\displaystyle 38$"
          },
          "metadata": {},
          "execution_count": 13
        }
      ]
    },
    {
      "cell_type": "markdown",
      "source": [
        "Fmax = 73,75"
      ],
      "metadata": {
        "id": "c5aTNnSzr280"
      }
    },
    {
      "cell_type": "markdown",
      "metadata": {
        "id": "xP25ayPrmbsU"
      },
      "source": [
        "##### Задание\n",
        "Найдите координаты остальных вершин, вычислите в них значение целевой функции и укажите в какой из них достигается ее максимум."
      ]
    },
    {
      "cell_type": "markdown",
      "metadata": {
        "id": "wg2Aq5eOmbsV"
      },
      "source": [
        "\n",
        "#####  Ответ\n",
        "\n",
        "Максимальное значение для $F$ равно 73.75, когда $x$ равно 14.5, а $y$ равно 5.25.\n",
        "\n",
        "Этот метод проверки каждой вершины возможен только при небольшом числе переменных и ограничений. По мере увеличения числа ограничений и переменных становится сложнее рассчитать эти проблемы и обработать все вершины.\n",
        "Например, если была бы третья переменная в целевой функции $F = Ax + By + Cz$ нам понадобится график в трех измерениях ($x$, $y$ и $z$).\n",
        "\n"
      ]
    }
  ],
  "metadata": {
    "kernelspec": {
      "display_name": "Python 3",
      "language": "python",
      "name": "python3"
    },
    "language_info": {
      "codemirror_mode": {
        "name": "ipython",
        "version": 3
      },
      "file_extension": ".py",
      "mimetype": "text/x-python",
      "name": "python",
      "nbconvert_exporter": "python",
      "pygments_lexer": "ipython3",
      "version": "3.8.3"
    },
    "colab": {
      "provenance": [],
      "collapsed_sections": [],
      "include_colab_link": true
    }
  },
  "nbformat": 4,
  "nbformat_minor": 0
}